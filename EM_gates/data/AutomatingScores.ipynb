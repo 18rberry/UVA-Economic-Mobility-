{
 "cells": [
  {
   "cell_type": "code",
   "execution_count": 3,
   "metadata": {},
   "outputs": [],
   "source": [
    "import pandas as pd\n",
    "education = pd.read_excel('updated_educationscorecard.xlsx')"
   ]
  },
  {
   "cell_type": "code",
   "execution_count": 4,
   "metadata": {},
   "outputs": [
    {
     "data": {
      "text/html": [
       "<div>\n",
       "<style scoped>\n",
       "    .dataframe tbody tr th:only-of-type {\n",
       "        vertical-align: middle;\n",
       "    }\n",
       "\n",
       "    .dataframe tbody tr th {\n",
       "        vertical-align: top;\n",
       "    }\n",
       "\n",
       "    .dataframe thead th {\n",
       "        text-align: right;\n",
       "    }\n",
       "</style>\n",
       "<table border=\"1\" class=\"dataframe\">\n",
       "  <thead>\n",
       "    <tr style=\"text-align: right;\">\n",
       "      <th></th>\n",
       "      <th>POLICY DOMAINS</th>\n",
       "      <th>Sub-domain</th>\n",
       "      <th>POLICY QUESTION</th>\n",
       "      <th>OR</th>\n",
       "      <th>VA</th>\n",
       "      <th>IA</th>\n",
       "    </tr>\n",
       "  </thead>\n",
       "  <tbody>\n",
       "    <tr>\n",
       "      <th>0</th>\n",
       "      <td>Education</td>\n",
       "      <td>School Climate</td>\n",
       "      <td>Are other approaches considered for student di...</td>\n",
       "      <td>1.000</td>\n",
       "      <td>0.400000</td>\n",
       "      <td>0.200000</td>\n",
       "    </tr>\n",
       "    <tr>\n",
       "      <th>1</th>\n",
       "      <td>Education</td>\n",
       "      <td>School Climate</td>\n",
       "      <td>Are there alternatives for student suspensions...</td>\n",
       "      <td>0.875</td>\n",
       "      <td>0.875000</td>\n",
       "      <td>0.500000</td>\n",
       "    </tr>\n",
       "    <tr>\n",
       "      <th>2</th>\n",
       "      <td>Education</td>\n",
       "      <td>School Climate</td>\n",
       "      <td>Are there laws/regulations for Disciplinary Ap...</td>\n",
       "      <td>1.000</td>\n",
       "      <td>1.000000</td>\n",
       "      <td>0.571429</td>\n",
       "    </tr>\n",
       "    <tr>\n",
       "      <th>3</th>\n",
       "      <td>Education</td>\n",
       "      <td>School Climate</td>\n",
       "      <td>Are there laws for Prevention and Behavioral I...</td>\n",
       "      <td>1.000</td>\n",
       "      <td>0.666667</td>\n",
       "      <td>0.333333</td>\n",
       "    </tr>\n",
       "    <tr>\n",
       "      <th>4</th>\n",
       "      <td>Education</td>\n",
       "      <td>School Climate</td>\n",
       "      <td>Is there Monitoring and Accountability in place?</td>\n",
       "      <td>1.000</td>\n",
       "      <td>1.000000</td>\n",
       "      <td>0.500000</td>\n",
       "    </tr>\n",
       "  </tbody>\n",
       "</table>\n",
       "</div>"
      ],
      "text/plain": [
       "  POLICY DOMAINS      Sub-domain  \\\n",
       "0      Education  School Climate   \n",
       "1      Education  School Climate   \n",
       "2      Education  School Climate   \n",
       "3      Education  School Climate   \n",
       "4      Education  School Climate   \n",
       "\n",
       "                                     POLICY QUESTION     OR        VA  \\\n",
       "0  Are other approaches considered for student di...  1.000  0.400000   \n",
       "1  Are there alternatives for student suspensions...  0.875  0.875000   \n",
       "2  Are there laws/regulations for Disciplinary Ap...  1.000  1.000000   \n",
       "3  Are there laws for Prevention and Behavioral I...  1.000  0.666667   \n",
       "4   Is there Monitoring and Accountability in place?  1.000  1.000000   \n",
       "\n",
       "         IA  \n",
       "0  0.200000  \n",
       "1  0.500000  \n",
       "2  0.571429  \n",
       "3  0.333333  \n",
       "4  0.500000  "
      ]
     },
     "execution_count": 4,
     "metadata": {},
     "output_type": "execute_result"
    }
   ],
   "source": [
    "education.head()"
   ]
  },
  {
   "cell_type": "code",
   "execution_count": 55,
   "metadata": {},
   "outputs": [],
   "source": [
    "orlist = list(education['OR'])"
   ]
  },
  {
   "cell_type": "code",
   "execution_count": 56,
   "metadata": {},
   "outputs": [],
   "source": [
    "valist = list(education['VA'])"
   ]
  },
  {
   "cell_type": "code",
   "execution_count": 57,
   "metadata": {},
   "outputs": [],
   "source": [
    "ialist = list(education['IA'])"
   ]
  },
  {
   "cell_type": "code",
   "execution_count": 60,
   "metadata": {},
   "outputs": [],
   "source": [
    "scorelist = []"
   ]
  },
  {
   "cell_type": "code",
   "execution_count": 61,
   "metadata": {},
   "outputs": [
    {
     "data": {
      "text/plain": [
       "[]"
      ]
     },
     "execution_count": 61,
     "metadata": {},
     "output_type": "execute_result"
    }
   ],
   "source": [
    "scorelist "
   ]
  },
  {
   "cell_type": "code",
   "execution_count": 62,
   "metadata": {},
   "outputs": [],
   "source": [
    "scorelist.append(valist)"
   ]
  },
  {
   "cell_type": "code",
   "execution_count": 63,
   "metadata": {},
   "outputs": [],
   "source": [
    "scorelist.append(ialist)"
   ]
  },
  {
   "cell_type": "code",
   "execution_count": 64,
   "metadata": {},
   "outputs": [],
   "source": [
    "scorelist.append(orlist)"
   ]
  },
  {
   "cell_type": "code",
   "execution_count": 65,
   "metadata": {},
   "outputs": [
    {
     "data": {
      "text/plain": [
       "[[0.4,\n",
       "  0.875,\n",
       "  1.0,\n",
       "  0.6666666667,\n",
       "  1.0,\n",
       "  1.0,\n",
       "  1.0,\n",
       "  0.75,\n",
       "  0.6,\n",
       "  0.6,\n",
       "  1.0,\n",
       "  0.0,\n",
       "  1.0,\n",
       "  1.0,\n",
       "  1.0,\n",
       "  0.0,\n",
       "  1.0,\n",
       "  1.0,\n",
       "  0.5],\n",
       " [0.2,\n",
       "  0.5,\n",
       "  0.5714285714,\n",
       "  0.3333333333,\n",
       "  0.5,\n",
       "  0.5,\n",
       "  0.0,\n",
       "  0.25,\n",
       "  0.8,\n",
       "  0.4,\n",
       "  1.0,\n",
       "  0.0,\n",
       "  1.0,\n",
       "  0.6666666667,\n",
       "  0.8,\n",
       "  0.5,\n",
       "  0.6666666667,\n",
       "  1.0,\n",
       "  0.25],\n",
       " [1.0,\n",
       "  0.875,\n",
       "  1.0,\n",
       "  1.0,\n",
       "  1.0,\n",
       "  0.0,\n",
       "  1.0,\n",
       "  0.75,\n",
       "  0.2,\n",
       "  1.0,\n",
       "  0.5,\n",
       "  0.5,\n",
       "  1.0,\n",
       "  0.6666666667,\n",
       "  1.0,\n",
       "  1.0,\n",
       "  0.6666666667,\n",
       "  0.0,\n",
       "  0.75]]"
      ]
     },
     "execution_count": 65,
     "metadata": {},
     "output_type": "execute_result"
    }
   ],
   "source": [
    "scorelist"
   ]
  },
  {
   "cell_type": "code",
   "execution_count": 66,
   "metadata": {},
   "outputs": [
    {
     "ename": "TypeError",
     "evalue": "list indices must be integers or slices, not list",
     "output_type": "error",
     "traceback": [
      "\u001b[0;31m---------------------------------------------------------------------------\u001b[0m",
      "\u001b[0;31mTypeError\u001b[0m                                 Traceback (most recent call last)",
      "\u001b[0;32m<ipython-input-66-60affd9f5314>\u001b[0m in \u001b[0;36m<module>\u001b[0;34m\u001b[0m\n\u001b[1;32m      2\u001b[0m \u001b[0;32mfor\u001b[0m \u001b[0mj\u001b[0m \u001b[0;32min\u001b[0m \u001b[0mscorelist\u001b[0m\u001b[0;34m:\u001b[0m\u001b[0;34m\u001b[0m\u001b[0;34m\u001b[0m\u001b[0m\n\u001b[1;32m      3\u001b[0m     \u001b[0;32mfor\u001b[0m \u001b[0mi\u001b[0m \u001b[0;32min\u001b[0m \u001b[0mscorelist\u001b[0m\u001b[0;34m:\u001b[0m\u001b[0;34m\u001b[0m\u001b[0;34m\u001b[0m\u001b[0m\n\u001b[0;32m----> 4\u001b[0;31m         \u001b[0mupdatedlist\u001b[0m\u001b[0;34m.\u001b[0m\u001b[0mappend\u001b[0m\u001b[0;34m(\u001b[0m\u001b[0mscorelist\u001b[0m\u001b[0;34m[\u001b[0m\u001b[0mi\u001b[0m\u001b[0;34m]\u001b[0m\u001b[0;34m[\u001b[0m\u001b[0mj\u001b[0m\u001b[0;34m]\u001b[0m\u001b[0;34m)\u001b[0m\u001b[0;34m\u001b[0m\u001b[0;34m\u001b[0m\u001b[0m\n\u001b[0m",
      "\u001b[0;31mTypeError\u001b[0m: list indices must be integers or slices, not list"
     ]
    }
   ],
   "source": [
    "updatedlist = []\n",
    "for j in scorelist:\n",
    "    for i in scorelist:\n",
    "        updatedlist.append(scorelist[i][j])"
   ]
  },
  {
   "cell_type": "code",
   "execution_count": 67,
   "metadata": {},
   "outputs": [],
   "source": [
    "newlist = []\n",
    "i = 0\n",
    "while i <=18:\n",
    "    newlist.append([item[i] for item in scorelist])\n",
    "    i+=1"
   ]
  },
  {
   "cell_type": "code",
   "execution_count": 68,
   "metadata": {},
   "outputs": [
    {
     "data": {
      "text/plain": [
       "[[0.4, 0.2, 1.0],\n",
       " [0.875, 0.5, 0.875],\n",
       " [1.0, 0.5714285714, 1.0],\n",
       " [0.6666666667, 0.3333333333, 1.0],\n",
       " [1.0, 0.5, 1.0],\n",
       " [1.0, 0.5, 0.0],\n",
       " [1.0, 0.0, 1.0],\n",
       " [0.75, 0.25, 0.75],\n",
       " [0.6, 0.8, 0.2],\n",
       " [0.6, 0.4, 1.0],\n",
       " [1.0, 1.0, 0.5],\n",
       " [0.0, 0.0, 0.5],\n",
       " [1.0, 1.0, 1.0],\n",
       " [1.0, 0.6666666667, 0.6666666667],\n",
       " [1.0, 0.8, 1.0],\n",
       " [0.0, 0.5, 1.0],\n",
       " [1.0, 0.6666666667, 0.6666666667],\n",
       " [1.0, 1.0, 0.0],\n",
       " [0.5, 0.25, 0.75]]"
      ]
     },
     "execution_count": 68,
     "metadata": {},
     "output_type": "execute_result"
    }
   ],
   "source": [
    "newlist"
   ]
  },
  {
   "cell_type": "code",
   "execution_count": 69,
   "metadata": {},
   "outputs": [],
   "source": [
    "flat_list = [item for sublist in newlist for item in sublist]"
   ]
  },
  {
   "cell_type": "code",
   "execution_count": 70,
   "metadata": {},
   "outputs": [
    {
     "data": {
      "text/plain": [
       "[0.4,\n",
       " 0.2,\n",
       " 1.0,\n",
       " 0.875,\n",
       " 0.5,\n",
       " 0.875,\n",
       " 1.0,\n",
       " 0.5714285714,\n",
       " 1.0,\n",
       " 0.6666666667,\n",
       " 0.3333333333,\n",
       " 1.0,\n",
       " 1.0,\n",
       " 0.5,\n",
       " 1.0,\n",
       " 1.0,\n",
       " 0.5,\n",
       " 0.0,\n",
       " 1.0,\n",
       " 0.0,\n",
       " 1.0,\n",
       " 0.75,\n",
       " 0.25,\n",
       " 0.75,\n",
       " 0.6,\n",
       " 0.8,\n",
       " 0.2,\n",
       " 0.6,\n",
       " 0.4,\n",
       " 1.0,\n",
       " 1.0,\n",
       " 1.0,\n",
       " 0.5,\n",
       " 0.0,\n",
       " 0.0,\n",
       " 0.5,\n",
       " 1.0,\n",
       " 1.0,\n",
       " 1.0,\n",
       " 1.0,\n",
       " 0.6666666667,\n",
       " 0.6666666667,\n",
       " 1.0,\n",
       " 0.8,\n",
       " 1.0,\n",
       " 0.0,\n",
       " 0.5,\n",
       " 1.0,\n",
       " 1.0,\n",
       " 0.6666666667,\n",
       " 0.6666666667,\n",
       " 1.0,\n",
       " 1.0,\n",
       " 0.0,\n",
       " 0.5,\n",
       " 0.25,\n",
       " 0.75]"
      ]
     },
     "execution_count": 70,
     "metadata": {},
     "output_type": "execute_result"
    }
   ],
   "source": [
    "flat_list"
   ]
  },
  {
   "cell_type": "code",
   "execution_count": null,
   "metadata": {},
   "outputs": [],
   "source": []
  }
 ],
 "metadata": {
  "kernelspec": {
   "display_name": "Python 3",
   "language": "python",
   "name": "python3"
  },
  "language_info": {
   "codemirror_mode": {
    "name": "ipython",
    "version": 3
   },
   "file_extension": ".py",
   "mimetype": "text/x-python",
   "name": "python",
   "nbconvert_exporter": "python",
   "pygments_lexer": "ipython3",
   "version": "3.7.4"
  }
 },
 "nbformat": 4,
 "nbformat_minor": 4
}
